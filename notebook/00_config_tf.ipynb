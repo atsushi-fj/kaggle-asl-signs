{
  "nbformat": 4,
  "nbformat_minor": 0,
  "metadata": {
    "colab": {
      "provenance": [],
      "machine_shape": "hm",
      "mount_file_id": "1q7h4ffReupcgcfj3zm2oF0hHpDpTtDcl",
      "authorship_tag": "ABX9TyOFzVLZe6FdUjq1gY41IWSI",
      "include_colab_link": true
    },
    "kernelspec": {
      "name": "python3",
      "display_name": "Python 3"
    },
    "language_info": {
      "name": "python"
    },
    "accelerator": "GPU",
    "gpuClass": "standard",
    "widgets": {
      "application/vnd.jupyter.widget-state+json": {
        "753098da387544b098ec5c90c525d0f8": {
          "model_module": "@jupyter-widgets/controls",
          "model_name": "HBoxModel",
          "model_module_version": "1.5.0",
          "state": {
            "_dom_classes": [],
            "_model_module": "@jupyter-widgets/controls",
            "_model_module_version": "1.5.0",
            "_model_name": "HBoxModel",
            "_view_count": null,
            "_view_module": "@jupyter-widgets/controls",
            "_view_module_version": "1.5.0",
            "_view_name": "HBoxView",
            "box_style": "",
            "children": [
              "IPY_MODEL_5ccc17e1240b49679feab4dff0e20327",
              "IPY_MODEL_945529e2d82c4f4f83882ebccc08c16d",
              "IPY_MODEL_dd46cb6e5f7246d3b5cb30a66873c5bd"
            ],
            "layout": "IPY_MODEL_45064606195e43f7af016f4c89845a63"
          }
        },
        "5ccc17e1240b49679feab4dff0e20327": {
          "model_module": "@jupyter-widgets/controls",
          "model_name": "HTMLModel",
          "model_module_version": "1.5.0",
          "state": {
            "_dom_classes": [],
            "_model_module": "@jupyter-widgets/controls",
            "_model_module_version": "1.5.0",
            "_model_name": "HTMLModel",
            "_view_count": null,
            "_view_module": "@jupyter-widgets/controls",
            "_view_module_version": "1.5.0",
            "_view_name": "HTMLView",
            "description": "",
            "description_tooltip": null,
            "layout": "IPY_MODEL_28a687a399a54175b6d645ba476f2c2b",
            "placeholder": "​",
            "style": "IPY_MODEL_114c314c8dad4b9bb9a3230bc475d05b",
            "value": "100%"
          }
        },
        "945529e2d82c4f4f83882ebccc08c16d": {
          "model_module": "@jupyter-widgets/controls",
          "model_name": "FloatProgressModel",
          "model_module_version": "1.5.0",
          "state": {
            "_dom_classes": [],
            "_model_module": "@jupyter-widgets/controls",
            "_model_module_version": "1.5.0",
            "_model_name": "FloatProgressModel",
            "_view_count": null,
            "_view_module": "@jupyter-widgets/controls",
            "_view_module_version": "1.5.0",
            "_view_name": "ProgressView",
            "bar_style": "success",
            "description": "",
            "description_tooltip": null,
            "layout": "IPY_MODEL_57a2a9c102a240e387f5839371df8ff0",
            "max": 40,
            "min": 0,
            "orientation": "horizontal",
            "style": "IPY_MODEL_7d1ea54eabbc45f89bc71fe744c40a68",
            "value": 40
          }
        },
        "dd46cb6e5f7246d3b5cb30a66873c5bd": {
          "model_module": "@jupyter-widgets/controls",
          "model_name": "HTMLModel",
          "model_module_version": "1.5.0",
          "state": {
            "_dom_classes": [],
            "_model_module": "@jupyter-widgets/controls",
            "_model_module_version": "1.5.0",
            "_model_name": "HTMLModel",
            "_view_count": null,
            "_view_module": "@jupyter-widgets/controls",
            "_view_module_version": "1.5.0",
            "_view_name": "HTMLView",
            "description": "",
            "description_tooltip": null,
            "layout": "IPY_MODEL_1b1f04765b10433bb64ebdadc9ddf9aa",
            "placeholder": "​",
            "style": "IPY_MODEL_045576effc6847639b65f5e1de257df3",
            "value": " 40/40 [00:02&lt;00:00, 14.67it/s]"
          }
        },
        "45064606195e43f7af016f4c89845a63": {
          "model_module": "@jupyter-widgets/base",
          "model_name": "LayoutModel",
          "model_module_version": "1.2.0",
          "state": {
            "_model_module": "@jupyter-widgets/base",
            "_model_module_version": "1.2.0",
            "_model_name": "LayoutModel",
            "_view_count": null,
            "_view_module": "@jupyter-widgets/base",
            "_view_module_version": "1.2.0",
            "_view_name": "LayoutView",
            "align_content": null,
            "align_items": null,
            "align_self": null,
            "border": null,
            "bottom": null,
            "display": null,
            "flex": null,
            "flex_flow": null,
            "grid_area": null,
            "grid_auto_columns": null,
            "grid_auto_flow": null,
            "grid_auto_rows": null,
            "grid_column": null,
            "grid_gap": null,
            "grid_row": null,
            "grid_template_areas": null,
            "grid_template_columns": null,
            "grid_template_rows": null,
            "height": null,
            "justify_content": null,
            "justify_items": null,
            "left": null,
            "margin": null,
            "max_height": null,
            "max_width": null,
            "min_height": null,
            "min_width": null,
            "object_fit": null,
            "object_position": null,
            "order": null,
            "overflow": null,
            "overflow_x": null,
            "overflow_y": null,
            "padding": null,
            "right": null,
            "top": null,
            "visibility": null,
            "width": null
          }
        },
        "28a687a399a54175b6d645ba476f2c2b": {
          "model_module": "@jupyter-widgets/base",
          "model_name": "LayoutModel",
          "model_module_version": "1.2.0",
          "state": {
            "_model_module": "@jupyter-widgets/base",
            "_model_module_version": "1.2.0",
            "_model_name": "LayoutModel",
            "_view_count": null,
            "_view_module": "@jupyter-widgets/base",
            "_view_module_version": "1.2.0",
            "_view_name": "LayoutView",
            "align_content": null,
            "align_items": null,
            "align_self": null,
            "border": null,
            "bottom": null,
            "display": null,
            "flex": null,
            "flex_flow": null,
            "grid_area": null,
            "grid_auto_columns": null,
            "grid_auto_flow": null,
            "grid_auto_rows": null,
            "grid_column": null,
            "grid_gap": null,
            "grid_row": null,
            "grid_template_areas": null,
            "grid_template_columns": null,
            "grid_template_rows": null,
            "height": null,
            "justify_content": null,
            "justify_items": null,
            "left": null,
            "margin": null,
            "max_height": null,
            "max_width": null,
            "min_height": null,
            "min_width": null,
            "object_fit": null,
            "object_position": null,
            "order": null,
            "overflow": null,
            "overflow_x": null,
            "overflow_y": null,
            "padding": null,
            "right": null,
            "top": null,
            "visibility": null,
            "width": null
          }
        },
        "114c314c8dad4b9bb9a3230bc475d05b": {
          "model_module": "@jupyter-widgets/controls",
          "model_name": "DescriptionStyleModel",
          "model_module_version": "1.5.0",
          "state": {
            "_model_module": "@jupyter-widgets/controls",
            "_model_module_version": "1.5.0",
            "_model_name": "DescriptionStyleModel",
            "_view_count": null,
            "_view_module": "@jupyter-widgets/base",
            "_view_module_version": "1.2.0",
            "_view_name": "StyleView",
            "description_width": ""
          }
        },
        "57a2a9c102a240e387f5839371df8ff0": {
          "model_module": "@jupyter-widgets/base",
          "model_name": "LayoutModel",
          "model_module_version": "1.2.0",
          "state": {
            "_model_module": "@jupyter-widgets/base",
            "_model_module_version": "1.2.0",
            "_model_name": "LayoutModel",
            "_view_count": null,
            "_view_module": "@jupyter-widgets/base",
            "_view_module_version": "1.2.0",
            "_view_name": "LayoutView",
            "align_content": null,
            "align_items": null,
            "align_self": null,
            "border": null,
            "bottom": null,
            "display": null,
            "flex": null,
            "flex_flow": null,
            "grid_area": null,
            "grid_auto_columns": null,
            "grid_auto_flow": null,
            "grid_auto_rows": null,
            "grid_column": null,
            "grid_gap": null,
            "grid_row": null,
            "grid_template_areas": null,
            "grid_template_columns": null,
            "grid_template_rows": null,
            "height": null,
            "justify_content": null,
            "justify_items": null,
            "left": null,
            "margin": null,
            "max_height": null,
            "max_width": null,
            "min_height": null,
            "min_width": null,
            "object_fit": null,
            "object_position": null,
            "order": null,
            "overflow": null,
            "overflow_x": null,
            "overflow_y": null,
            "padding": null,
            "right": null,
            "top": null,
            "visibility": null,
            "width": null
          }
        },
        "7d1ea54eabbc45f89bc71fe744c40a68": {
          "model_module": "@jupyter-widgets/controls",
          "model_name": "ProgressStyleModel",
          "model_module_version": "1.5.0",
          "state": {
            "_model_module": "@jupyter-widgets/controls",
            "_model_module_version": "1.5.0",
            "_model_name": "ProgressStyleModel",
            "_view_count": null,
            "_view_module": "@jupyter-widgets/base",
            "_view_module_version": "1.2.0",
            "_view_name": "StyleView",
            "bar_color": null,
            "description_width": ""
          }
        },
        "1b1f04765b10433bb64ebdadc9ddf9aa": {
          "model_module": "@jupyter-widgets/base",
          "model_name": "LayoutModel",
          "model_module_version": "1.2.0",
          "state": {
            "_model_module": "@jupyter-widgets/base",
            "_model_module_version": "1.2.0",
            "_model_name": "LayoutModel",
            "_view_count": null,
            "_view_module": "@jupyter-widgets/base",
            "_view_module_version": "1.2.0",
            "_view_name": "LayoutView",
            "align_content": null,
            "align_items": null,
            "align_self": null,
            "border": null,
            "bottom": null,
            "display": null,
            "flex": null,
            "flex_flow": null,
            "grid_area": null,
            "grid_auto_columns": null,
            "grid_auto_flow": null,
            "grid_auto_rows": null,
            "grid_column": null,
            "grid_gap": null,
            "grid_row": null,
            "grid_template_areas": null,
            "grid_template_columns": null,
            "grid_template_rows": null,
            "height": null,
            "justify_content": null,
            "justify_items": null,
            "left": null,
            "margin": null,
            "max_height": null,
            "max_width": null,
            "min_height": null,
            "min_width": null,
            "object_fit": null,
            "object_position": null,
            "order": null,
            "overflow": null,
            "overflow_x": null,
            "overflow_y": null,
            "padding": null,
            "right": null,
            "top": null,
            "visibility": null,
            "width": null
          }
        },
        "045576effc6847639b65f5e1de257df3": {
          "model_module": "@jupyter-widgets/controls",
          "model_name": "DescriptionStyleModel",
          "model_module_version": "1.5.0",
          "state": {
            "_model_module": "@jupyter-widgets/controls",
            "_model_module_version": "1.5.0",
            "_model_name": "DescriptionStyleModel",
            "_view_count": null,
            "_view_module": "@jupyter-widgets/base",
            "_view_module_version": "1.2.0",
            "_view_name": "StyleView",
            "description_width": ""
          }
        },
        "ddb50f1a916a46b79288a5bba7a3d3c6": {
          "model_module": "@jupyter-widgets/controls",
          "model_name": "HBoxModel",
          "model_module_version": "1.5.0",
          "state": {
            "_dom_classes": [],
            "_model_module": "@jupyter-widgets/controls",
            "_model_module_version": "1.5.0",
            "_model_name": "HBoxModel",
            "_view_count": null,
            "_view_module": "@jupyter-widgets/controls",
            "_view_module_version": "1.5.0",
            "_view_name": "HBoxView",
            "box_style": "",
            "children": [
              "IPY_MODEL_9c30251484c24d698fd0e32ccb9a2f6b",
              "IPY_MODEL_81dcf51bc06f496a9032100d0f563f02",
              "IPY_MODEL_04c4f9ae44434dfaaa88fbbb9761e63b"
            ],
            "layout": "IPY_MODEL_2e665429126548a79f4daaa1644c718a"
          }
        },
        "9c30251484c24d698fd0e32ccb9a2f6b": {
          "model_module": "@jupyter-widgets/controls",
          "model_name": "HTMLModel",
          "model_module_version": "1.5.0",
          "state": {
            "_dom_classes": [],
            "_model_module": "@jupyter-widgets/controls",
            "_model_module_version": "1.5.0",
            "_model_name": "HTMLModel",
            "_view_count": null,
            "_view_module": "@jupyter-widgets/controls",
            "_view_module_version": "1.5.0",
            "_view_name": "HTMLView",
            "description": "",
            "description_tooltip": null,
            "layout": "IPY_MODEL_017973109bea4a6abb0af4dca6980fca",
            "placeholder": "​",
            "style": "IPY_MODEL_4e3db9e7eb0048e1995f378c293aa868",
            "value": "100%"
          }
        },
        "81dcf51bc06f496a9032100d0f563f02": {
          "model_module": "@jupyter-widgets/controls",
          "model_name": "FloatProgressModel",
          "model_module_version": "1.5.0",
          "state": {
            "_dom_classes": [],
            "_model_module": "@jupyter-widgets/controls",
            "_model_module_version": "1.5.0",
            "_model_name": "FloatProgressModel",
            "_view_count": null,
            "_view_module": "@jupyter-widgets/controls",
            "_view_module_version": "1.5.0",
            "_view_name": "ProgressView",
            "bar_style": "success",
            "description": "",
            "description_tooltip": null,
            "layout": "IPY_MODEL_7769edea43cf4e078fd257e66f5144a3",
            "max": 42,
            "min": 0,
            "orientation": "horizontal",
            "style": "IPY_MODEL_b90aa0e6ced7403cb501fb0e21731298",
            "value": 42
          }
        },
        "04c4f9ae44434dfaaa88fbbb9761e63b": {
          "model_module": "@jupyter-widgets/controls",
          "model_name": "HTMLModel",
          "model_module_version": "1.5.0",
          "state": {
            "_dom_classes": [],
            "_model_module": "@jupyter-widgets/controls",
            "_model_module_version": "1.5.0",
            "_model_name": "HTMLModel",
            "_view_count": null,
            "_view_module": "@jupyter-widgets/controls",
            "_view_module_version": "1.5.0",
            "_view_name": "HTMLView",
            "description": "",
            "description_tooltip": null,
            "layout": "IPY_MODEL_4ded6f4c81cc45ceae66a046792b1b35",
            "placeholder": "​",
            "style": "IPY_MODEL_b917cc1a54dd4289b4c421f9cfdd2a03",
            "value": " 42/42 [00:02&lt;00:00, 16.72it/s]"
          }
        },
        "2e665429126548a79f4daaa1644c718a": {
          "model_module": "@jupyter-widgets/base",
          "model_name": "LayoutModel",
          "model_module_version": "1.2.0",
          "state": {
            "_model_module": "@jupyter-widgets/base",
            "_model_module_version": "1.2.0",
            "_model_name": "LayoutModel",
            "_view_count": null,
            "_view_module": "@jupyter-widgets/base",
            "_view_module_version": "1.2.0",
            "_view_name": "LayoutView",
            "align_content": null,
            "align_items": null,
            "align_self": null,
            "border": null,
            "bottom": null,
            "display": null,
            "flex": null,
            "flex_flow": null,
            "grid_area": null,
            "grid_auto_columns": null,
            "grid_auto_flow": null,
            "grid_auto_rows": null,
            "grid_column": null,
            "grid_gap": null,
            "grid_row": null,
            "grid_template_areas": null,
            "grid_template_columns": null,
            "grid_template_rows": null,
            "height": null,
            "justify_content": null,
            "justify_items": null,
            "left": null,
            "margin": null,
            "max_height": null,
            "max_width": null,
            "min_height": null,
            "min_width": null,
            "object_fit": null,
            "object_position": null,
            "order": null,
            "overflow": null,
            "overflow_x": null,
            "overflow_y": null,
            "padding": null,
            "right": null,
            "top": null,
            "visibility": null,
            "width": null
          }
        },
        "017973109bea4a6abb0af4dca6980fca": {
          "model_module": "@jupyter-widgets/base",
          "model_name": "LayoutModel",
          "model_module_version": "1.2.0",
          "state": {
            "_model_module": "@jupyter-widgets/base",
            "_model_module_version": "1.2.0",
            "_model_name": "LayoutModel",
            "_view_count": null,
            "_view_module": "@jupyter-widgets/base",
            "_view_module_version": "1.2.0",
            "_view_name": "LayoutView",
            "align_content": null,
            "align_items": null,
            "align_self": null,
            "border": null,
            "bottom": null,
            "display": null,
            "flex": null,
            "flex_flow": null,
            "grid_area": null,
            "grid_auto_columns": null,
            "grid_auto_flow": null,
            "grid_auto_rows": null,
            "grid_column": null,
            "grid_gap": null,
            "grid_row": null,
            "grid_template_areas": null,
            "grid_template_columns": null,
            "grid_template_rows": null,
            "height": null,
            "justify_content": null,
            "justify_items": null,
            "left": null,
            "margin": null,
            "max_height": null,
            "max_width": null,
            "min_height": null,
            "min_width": null,
            "object_fit": null,
            "object_position": null,
            "order": null,
            "overflow": null,
            "overflow_x": null,
            "overflow_y": null,
            "padding": null,
            "right": null,
            "top": null,
            "visibility": null,
            "width": null
          }
        },
        "4e3db9e7eb0048e1995f378c293aa868": {
          "model_module": "@jupyter-widgets/controls",
          "model_name": "DescriptionStyleModel",
          "model_module_version": "1.5.0",
          "state": {
            "_model_module": "@jupyter-widgets/controls",
            "_model_module_version": "1.5.0",
            "_model_name": "DescriptionStyleModel",
            "_view_count": null,
            "_view_module": "@jupyter-widgets/base",
            "_view_module_version": "1.2.0",
            "_view_name": "StyleView",
            "description_width": ""
          }
        },
        "7769edea43cf4e078fd257e66f5144a3": {
          "model_module": "@jupyter-widgets/base",
          "model_name": "LayoutModel",
          "model_module_version": "1.2.0",
          "state": {
            "_model_module": "@jupyter-widgets/base",
            "_model_module_version": "1.2.0",
            "_model_name": "LayoutModel",
            "_view_count": null,
            "_view_module": "@jupyter-widgets/base",
            "_view_module_version": "1.2.0",
            "_view_name": "LayoutView",
            "align_content": null,
            "align_items": null,
            "align_self": null,
            "border": null,
            "bottom": null,
            "display": null,
            "flex": null,
            "flex_flow": null,
            "grid_area": null,
            "grid_auto_columns": null,
            "grid_auto_flow": null,
            "grid_auto_rows": null,
            "grid_column": null,
            "grid_gap": null,
            "grid_row": null,
            "grid_template_areas": null,
            "grid_template_columns": null,
            "grid_template_rows": null,
            "height": null,
            "justify_content": null,
            "justify_items": null,
            "left": null,
            "margin": null,
            "max_height": null,
            "max_width": null,
            "min_height": null,
            "min_width": null,
            "object_fit": null,
            "object_position": null,
            "order": null,
            "overflow": null,
            "overflow_x": null,
            "overflow_y": null,
            "padding": null,
            "right": null,
            "top": null,
            "visibility": null,
            "width": null
          }
        },
        "b90aa0e6ced7403cb501fb0e21731298": {
          "model_module": "@jupyter-widgets/controls",
          "model_name": "ProgressStyleModel",
          "model_module_version": "1.5.0",
          "state": {
            "_model_module": "@jupyter-widgets/controls",
            "_model_module_version": "1.5.0",
            "_model_name": "ProgressStyleModel",
            "_view_count": null,
            "_view_module": "@jupyter-widgets/base",
            "_view_module_version": "1.2.0",
            "_view_name": "StyleView",
            "bar_color": null,
            "description_width": ""
          }
        },
        "4ded6f4c81cc45ceae66a046792b1b35": {
          "model_module": "@jupyter-widgets/base",
          "model_name": "LayoutModel",
          "model_module_version": "1.2.0",
          "state": {
            "_model_module": "@jupyter-widgets/base",
            "_model_module_version": "1.2.0",
            "_model_name": "LayoutModel",
            "_view_count": null,
            "_view_module": "@jupyter-widgets/base",
            "_view_module_version": "1.2.0",
            "_view_name": "LayoutView",
            "align_content": null,
            "align_items": null,
            "align_self": null,
            "border": null,
            "bottom": null,
            "display": null,
            "flex": null,
            "flex_flow": null,
            "grid_area": null,
            "grid_auto_columns": null,
            "grid_auto_flow": null,
            "grid_auto_rows": null,
            "grid_column": null,
            "grid_gap": null,
            "grid_row": null,
            "grid_template_areas": null,
            "grid_template_columns": null,
            "grid_template_rows": null,
            "height": null,
            "justify_content": null,
            "justify_items": null,
            "left": null,
            "margin": null,
            "max_height": null,
            "max_width": null,
            "min_height": null,
            "min_width": null,
            "object_fit": null,
            "object_position": null,
            "order": null,
            "overflow": null,
            "overflow_x": null,
            "overflow_y": null,
            "padding": null,
            "right": null,
            "top": null,
            "visibility": null,
            "width": null
          }
        },
        "b917cc1a54dd4289b4c421f9cfdd2a03": {
          "model_module": "@jupyter-widgets/controls",
          "model_name": "DescriptionStyleModel",
          "model_module_version": "1.5.0",
          "state": {
            "_model_module": "@jupyter-widgets/controls",
            "_model_module_version": "1.5.0",
            "_model_name": "DescriptionStyleModel",
            "_view_count": null,
            "_view_module": "@jupyter-widgets/base",
            "_view_module_version": "1.2.0",
            "_view_name": "StyleView",
            "description_width": ""
          }
        },
        "07aa4f91a7324ff7be74c4853b1f23ee": {
          "model_module": "@jupyter-widgets/controls",
          "model_name": "HBoxModel",
          "model_module_version": "1.5.0",
          "state": {
            "_dom_classes": [],
            "_model_module": "@jupyter-widgets/controls",
            "_model_module_version": "1.5.0",
            "_model_name": "HBoxModel",
            "_view_count": null,
            "_view_module": "@jupyter-widgets/controls",
            "_view_module_version": "1.5.0",
            "_view_name": "HBoxView",
            "box_style": "",
            "children": [
              "IPY_MODEL_143056b794bf44a7b9ae8a2fa5e214cf",
              "IPY_MODEL_57044e538e624cd58cf5265362cfc9fb",
              "IPY_MODEL_de09b1f3384d46c1975c3b3e7f630121"
            ],
            "layout": "IPY_MODEL_66f2d8be1f2b424c9d73caff250b08da"
          }
        },
        "143056b794bf44a7b9ae8a2fa5e214cf": {
          "model_module": "@jupyter-widgets/controls",
          "model_name": "HTMLModel",
          "model_module_version": "1.5.0",
          "state": {
            "_dom_classes": [],
            "_model_module": "@jupyter-widgets/controls",
            "_model_module_version": "1.5.0",
            "_model_name": "HTMLModel",
            "_view_count": null,
            "_view_module": "@jupyter-widgets/controls",
            "_view_module_version": "1.5.0",
            "_view_name": "HTMLView",
            "description": "",
            "description_tooltip": null,
            "layout": "IPY_MODEL_5479d63691e44a53ac7217cf4106bab6",
            "placeholder": "​",
            "style": "IPY_MODEL_e42499f5083a49c3b6c2e7a8a043164d",
            "value": "100%"
          }
        },
        "57044e538e624cd58cf5265362cfc9fb": {
          "model_module": "@jupyter-widgets/controls",
          "model_name": "FloatProgressModel",
          "model_module_version": "1.5.0",
          "state": {
            "_dom_classes": [],
            "_model_module": "@jupyter-widgets/controls",
            "_model_module_version": "1.5.0",
            "_model_name": "FloatProgressModel",
            "_view_count": null,
            "_view_module": "@jupyter-widgets/controls",
            "_view_module_version": "1.5.0",
            "_view_name": "ProgressView",
            "bar_style": "success",
            "description": "",
            "description_tooltip": null,
            "layout": "IPY_MODEL_aa6ce493cffc4363849c25ebf3344167",
            "max": 10,
            "min": 0,
            "orientation": "horizontal",
            "style": "IPY_MODEL_e2c566d34c3643efb81c22f4dc591e0f",
            "value": 10
          }
        },
        "de09b1f3384d46c1975c3b3e7f630121": {
          "model_module": "@jupyter-widgets/controls",
          "model_name": "HTMLModel",
          "model_module_version": "1.5.0",
          "state": {
            "_dom_classes": [],
            "_model_module": "@jupyter-widgets/controls",
            "_model_module_version": "1.5.0",
            "_model_name": "HTMLModel",
            "_view_count": null,
            "_view_module": "@jupyter-widgets/controls",
            "_view_module_version": "1.5.0",
            "_view_name": "HTMLView",
            "description": "",
            "description_tooltip": null,
            "layout": "IPY_MODEL_816f278fbdfe483bb81afac79d3976e4",
            "placeholder": "​",
            "style": "IPY_MODEL_9ca5f143885e423eb5ae3e69c0700421",
            "value": " 10/10 [00:00&lt;00:00, 15.10it/s]"
          }
        },
        "66f2d8be1f2b424c9d73caff250b08da": {
          "model_module": "@jupyter-widgets/base",
          "model_name": "LayoutModel",
          "model_module_version": "1.2.0",
          "state": {
            "_model_module": "@jupyter-widgets/base",
            "_model_module_version": "1.2.0",
            "_model_name": "LayoutModel",
            "_view_count": null,
            "_view_module": "@jupyter-widgets/base",
            "_view_module_version": "1.2.0",
            "_view_name": "LayoutView",
            "align_content": null,
            "align_items": null,
            "align_self": null,
            "border": null,
            "bottom": null,
            "display": null,
            "flex": null,
            "flex_flow": null,
            "grid_area": null,
            "grid_auto_columns": null,
            "grid_auto_flow": null,
            "grid_auto_rows": null,
            "grid_column": null,
            "grid_gap": null,
            "grid_row": null,
            "grid_template_areas": null,
            "grid_template_columns": null,
            "grid_template_rows": null,
            "height": null,
            "justify_content": null,
            "justify_items": null,
            "left": null,
            "margin": null,
            "max_height": null,
            "max_width": null,
            "min_height": null,
            "min_width": null,
            "object_fit": null,
            "object_position": null,
            "order": null,
            "overflow": null,
            "overflow_x": null,
            "overflow_y": null,
            "padding": null,
            "right": null,
            "top": null,
            "visibility": null,
            "width": null
          }
        },
        "5479d63691e44a53ac7217cf4106bab6": {
          "model_module": "@jupyter-widgets/base",
          "model_name": "LayoutModel",
          "model_module_version": "1.2.0",
          "state": {
            "_model_module": "@jupyter-widgets/base",
            "_model_module_version": "1.2.0",
            "_model_name": "LayoutModel",
            "_view_count": null,
            "_view_module": "@jupyter-widgets/base",
            "_view_module_version": "1.2.0",
            "_view_name": "LayoutView",
            "align_content": null,
            "align_items": null,
            "align_self": null,
            "border": null,
            "bottom": null,
            "display": null,
            "flex": null,
            "flex_flow": null,
            "grid_area": null,
            "grid_auto_columns": null,
            "grid_auto_flow": null,
            "grid_auto_rows": null,
            "grid_column": null,
            "grid_gap": null,
            "grid_row": null,
            "grid_template_areas": null,
            "grid_template_columns": null,
            "grid_template_rows": null,
            "height": null,
            "justify_content": null,
            "justify_items": null,
            "left": null,
            "margin": null,
            "max_height": null,
            "max_width": null,
            "min_height": null,
            "min_width": null,
            "object_fit": null,
            "object_position": null,
            "order": null,
            "overflow": null,
            "overflow_x": null,
            "overflow_y": null,
            "padding": null,
            "right": null,
            "top": null,
            "visibility": null,
            "width": null
          }
        },
        "e42499f5083a49c3b6c2e7a8a043164d": {
          "model_module": "@jupyter-widgets/controls",
          "model_name": "DescriptionStyleModel",
          "model_module_version": "1.5.0",
          "state": {
            "_model_module": "@jupyter-widgets/controls",
            "_model_module_version": "1.5.0",
            "_model_name": "DescriptionStyleModel",
            "_view_count": null,
            "_view_module": "@jupyter-widgets/base",
            "_view_module_version": "1.2.0",
            "_view_name": "StyleView",
            "description_width": ""
          }
        },
        "aa6ce493cffc4363849c25ebf3344167": {
          "model_module": "@jupyter-widgets/base",
          "model_name": "LayoutModel",
          "model_module_version": "1.2.0",
          "state": {
            "_model_module": "@jupyter-widgets/base",
            "_model_module_version": "1.2.0",
            "_model_name": "LayoutModel",
            "_view_count": null,
            "_view_module": "@jupyter-widgets/base",
            "_view_module_version": "1.2.0",
            "_view_name": "LayoutView",
            "align_content": null,
            "align_items": null,
            "align_self": null,
            "border": null,
            "bottom": null,
            "display": null,
            "flex": null,
            "flex_flow": null,
            "grid_area": null,
            "grid_auto_columns": null,
            "grid_auto_flow": null,
            "grid_auto_rows": null,
            "grid_column": null,
            "grid_gap": null,
            "grid_row": null,
            "grid_template_areas": null,
            "grid_template_columns": null,
            "grid_template_rows": null,
            "height": null,
            "justify_content": null,
            "justify_items": null,
            "left": null,
            "margin": null,
            "max_height": null,
            "max_width": null,
            "min_height": null,
            "min_width": null,
            "object_fit": null,
            "object_position": null,
            "order": null,
            "overflow": null,
            "overflow_x": null,
            "overflow_y": null,
            "padding": null,
            "right": null,
            "top": null,
            "visibility": null,
            "width": null
          }
        },
        "e2c566d34c3643efb81c22f4dc591e0f": {
          "model_module": "@jupyter-widgets/controls",
          "model_name": "ProgressStyleModel",
          "model_module_version": "1.5.0",
          "state": {
            "_model_module": "@jupyter-widgets/controls",
            "_model_module_version": "1.5.0",
            "_model_name": "ProgressStyleModel",
            "_view_count": null,
            "_view_module": "@jupyter-widgets/base",
            "_view_module_version": "1.2.0",
            "_view_name": "StyleView",
            "bar_color": null,
            "description_width": ""
          }
        },
        "816f278fbdfe483bb81afac79d3976e4": {
          "model_module": "@jupyter-widgets/base",
          "model_name": "LayoutModel",
          "model_module_version": "1.2.0",
          "state": {
            "_model_module": "@jupyter-widgets/base",
            "_model_module_version": "1.2.0",
            "_model_name": "LayoutModel",
            "_view_count": null,
            "_view_module": "@jupyter-widgets/base",
            "_view_module_version": "1.2.0",
            "_view_name": "LayoutView",
            "align_content": null,
            "align_items": null,
            "align_self": null,
            "border": null,
            "bottom": null,
            "display": null,
            "flex": null,
            "flex_flow": null,
            "grid_area": null,
            "grid_auto_columns": null,
            "grid_auto_flow": null,
            "grid_auto_rows": null,
            "grid_column": null,
            "grid_gap": null,
            "grid_row": null,
            "grid_template_areas": null,
            "grid_template_columns": null,
            "grid_template_rows": null,
            "height": null,
            "justify_content": null,
            "justify_items": null,
            "left": null,
            "margin": null,
            "max_height": null,
            "max_width": null,
            "min_height": null,
            "min_width": null,
            "object_fit": null,
            "object_position": null,
            "order": null,
            "overflow": null,
            "overflow_x": null,
            "overflow_y": null,
            "padding": null,
            "right": null,
            "top": null,
            "visibility": null,
            "width": null
          }
        },
        "9ca5f143885e423eb5ae3e69c0700421": {
          "model_module": "@jupyter-widgets/controls",
          "model_name": "DescriptionStyleModel",
          "model_module_version": "1.5.0",
          "state": {
            "_model_module": "@jupyter-widgets/controls",
            "_model_module_version": "1.5.0",
            "_model_name": "DescriptionStyleModel",
            "_view_count": null,
            "_view_module": "@jupyter-widgets/base",
            "_view_module_version": "1.2.0",
            "_view_name": "StyleView",
            "description_width": ""
          }
        }
      }
    }
  },
  "cells": [
    {
      "cell_type": "markdown",
      "metadata": {
        "id": "view-in-github",
        "colab_type": "text"
      },
      "source": [
        "<a href=\"https://colab.research.google.com/github/atsushi-fj/kaggle-asl-signs/blob/main/notebook/00_config_tf.ipynb\" target=\"_parent\"><img src=\"https://colab.research.google.com/assets/colab-badge.svg\" alt=\"Open In Colab\"/></a>"
      ]
    },
    {
      "cell_type": "code",
      "execution_count": null,
      "metadata": {
        "id": "2JnlWDw2nXdW"
      },
      "outputs": [],
      "source": [
        "%%capture\n",
        "!pip install wandb --upgrade"
      ]
    },
    {
      "cell_type": "code",
      "source": [
        "import wandb\n",
        "wandb.login()"
      ],
      "metadata": {
        "colab": {
          "base_uri": "https://localhost:8080/",
          "height": 69
        },
        "id": "PaXG4Aohnbsp",
        "outputId": "d575f5a5-6a9c-4c61-9278-eadb0c46ab29"
      },
      "execution_count": null,
      "outputs": [
        {
          "output_type": "display_data",
          "data": {
            "text/plain": [
              "<IPython.core.display.Javascript object>"
            ],
            "application/javascript": [
              "\n",
              "        window._wandbApiKey = new Promise((resolve, reject) => {\n",
              "            function loadScript(url) {\n",
              "            return new Promise(function(resolve, reject) {\n",
              "                let newScript = document.createElement(\"script\");\n",
              "                newScript.onerror = reject;\n",
              "                newScript.onload = resolve;\n",
              "                document.body.appendChild(newScript);\n",
              "                newScript.src = url;\n",
              "            });\n",
              "            }\n",
              "            loadScript(\"https://cdn.jsdelivr.net/npm/postmate/build/postmate.min.js\").then(() => {\n",
              "            const iframe = document.createElement('iframe')\n",
              "            iframe.style.cssText = \"width:0;height:0;border:none\"\n",
              "            document.body.appendChild(iframe)\n",
              "            const handshake = new Postmate({\n",
              "                container: iframe,\n",
              "                url: 'https://wandb.ai/authorize'\n",
              "            });\n",
              "            const timeout = setTimeout(() => reject(\"Couldn't auto authenticate\"), 5000)\n",
              "            handshake.then(function(child) {\n",
              "                child.on('authorize', data => {\n",
              "                    clearTimeout(timeout)\n",
              "                    resolve(data)\n",
              "                });\n",
              "            });\n",
              "            })\n",
              "        });\n",
              "    "
            ]
          },
          "metadata": {}
        },
        {
          "output_type": "stream",
          "name": "stderr",
          "text": [
            "\u001b[34m\u001b[1mwandb\u001b[0m: Appending key for api.wandb.ai to your netrc file: /root/.netrc\n"
          ]
        },
        {
          "output_type": "execute_result",
          "data": {
            "text/plain": [
              "True"
            ]
          },
          "metadata": {},
          "execution_count": 2
        }
      ]
    },
    {
      "cell_type": "code",
      "source": [
        "!git clone https://github.com/atsushi-fj/kaggle-asl-signs.git"
      ],
      "metadata": {
        "colab": {
          "base_uri": "https://localhost:8080/"
        },
        "id": "fcdeNeVRqfry",
        "outputId": "ce5e443d-277c-4012-f2b9-1e71b82cb117"
      },
      "execution_count": null,
      "outputs": [
        {
          "output_type": "stream",
          "name": "stdout",
          "text": [
            "Cloning into 'kaggle-asl-signs'...\n",
            "remote: Enumerating objects: 484, done.\u001b[K\n",
            "remote: Counting objects: 100% (148/148), done.\u001b[K\n",
            "remote: Compressing objects: 100% (105/105), done.\u001b[K\n",
            "remote: Total 484 (delta 74), reused 108 (delta 37), pack-reused 336\u001b[K\n",
            "Receiving objects: 100% (484/484), 63.92 KiB | 1.39 MiB/s, done.\n",
            "Resolving deltas: 100% (260/260), done.\n"
          ]
        }
      ]
    },
    {
      "cell_type": "code",
      "source": [
        "!mv kaggle-asl-signs/tensorflow ."
      ],
      "metadata": {
        "id": "YA0rLVby5kPO"
      },
      "execution_count": null,
      "outputs": []
    },
    {
      "cell_type": "code",
      "source": [
        "!rm -rf kaggle-asl-signs"
      ],
      "metadata": {
        "id": "Px4BoeYp-lr7"
      },
      "execution_count": null,
      "outputs": []
    },
    {
      "cell_type": "code",
      "source": [
        "!mv tensorflow/src .\n",
        "!mv tensorflow/config ."
      ],
      "metadata": {
        "id": "SqPWsQ5Y1lgE"
      },
      "execution_count": null,
      "outputs": []
    },
    {
      "cell_type": "code",
      "source": [
        "!cp /content/drive/MyDrive/Kaggle/isolated-sign-language-recognition/input/ ./input/ -r"
      ],
      "metadata": {
        "id": "PTr3muZxCKW_"
      },
      "execution_count": null,
      "outputs": []
    },
    {
      "cell_type": "code",
      "source": [
        "!pip install tensorflow-addons"
      ],
      "metadata": {
        "id": "J4qTWpIvx816",
        "outputId": "399b8335-70ed-4b3a-a6da-f18e7d6c3bc2",
        "colab": {
          "base_uri": "https://localhost:8080/"
        }
      },
      "execution_count": null,
      "outputs": [
        {
          "output_type": "stream",
          "name": "stdout",
          "text": [
            "Looking in indexes: https://pypi.org/simple, https://us-python.pkg.dev/colab-wheels/public/simple/\n",
            "Collecting tensorflow-addons\n",
            "  Downloading tensorflow_addons-0.19.0-cp39-cp39-manylinux_2_17_x86_64.manylinux2014_x86_64.whl (1.1 MB)\n",
            "\u001b[2K     \u001b[90m━━━━━━━━━━━━━━━━━━━━━━━━━━━━━━━━━━━━━━━━\u001b[0m \u001b[32m1.1/1.1 MB\u001b[0m \u001b[31m14.9 MB/s\u001b[0m eta \u001b[36m0:00:00\u001b[0m\n",
            "\u001b[?25hRequirement already satisfied: packaging in /usr/local/lib/python3.9/dist-packages (from tensorflow-addons) (23.0)\n",
            "Collecting typeguard>=2.7\n",
            "  Downloading typeguard-3.0.2-py3-none-any.whl (30 kB)\n",
            "Requirement already satisfied: importlib-metadata>=3.6 in /usr/local/lib/python3.9/dist-packages (from typeguard>=2.7->tensorflow-addons) (6.1.0)\n",
            "Requirement already satisfied: typing-extensions>=4.4.0 in /usr/local/lib/python3.9/dist-packages (from typeguard>=2.7->tensorflow-addons) (4.5.0)\n",
            "Requirement already satisfied: zipp>=0.5 in /usr/local/lib/python3.9/dist-packages (from importlib-metadata>=3.6->typeguard>=2.7->tensorflow-addons) (3.15.0)\n",
            "Installing collected packages: typeguard, tensorflow-addons\n",
            "Successfully installed tensorflow-addons-0.19.0 typeguard-3.0.2\n"
          ]
        }
      ]
    },
    {
      "cell_type": "code",
      "source": [
        "from src import train"
      ],
      "metadata": {
        "id": "tN1wjMv7ndh3",
        "colab": {
          "base_uri": "https://localhost:8080/"
        },
        "outputId": "97af470e-cf37-4f30-dbc8-d18c42ff390b"
      },
      "execution_count": null,
      "outputs": [
        {
          "output_type": "stream",
          "name": "stderr",
          "text": [
            "/usr/local/lib/python3.9/dist-packages/tensorflow_addons/utils/ensure_tf_install.py:53: UserWarning: Tensorflow Addons supports using Python ops for all Tensorflow versions above or equal to 2.9.0 and strictly below 2.12.0 (nightly versions are not supported). \n",
            " The versions of TensorFlow you are currently using is 2.12.0 and is not supported. \n",
            "Some things might work, some things might not.\n",
            "If you were to encounter a bug, do not file an issue.\n",
            "If you want to make sure you're using a tested and supported configuration, either change the TensorFlow version or the TensorFlow Addons's version. \n",
            "You can find the compatibility matrix in TensorFlow Addon's readme:\n",
            "https://github.com/tensorflow/addons\n",
            "  warnings.warn(\n"
          ]
        }
      ]
    },
    {
      "cell_type": "code",
      "source": [
        "train.run(config=\"config.yaml\")"
      ],
      "metadata": {
        "colab": {
          "base_uri": "https://localhost:8080/",
          "height": 1000,
          "referenced_widgets": [
            "753098da387544b098ec5c90c525d0f8",
            "5ccc17e1240b49679feab4dff0e20327",
            "945529e2d82c4f4f83882ebccc08c16d",
            "dd46cb6e5f7246d3b5cb30a66873c5bd",
            "45064606195e43f7af016f4c89845a63",
            "28a687a399a54175b6d645ba476f2c2b",
            "114c314c8dad4b9bb9a3230bc475d05b",
            "57a2a9c102a240e387f5839371df8ff0",
            "7d1ea54eabbc45f89bc71fe744c40a68",
            "1b1f04765b10433bb64ebdadc9ddf9aa",
            "045576effc6847639b65f5e1de257df3",
            "ddb50f1a916a46b79288a5bba7a3d3c6",
            "9c30251484c24d698fd0e32ccb9a2f6b",
            "81dcf51bc06f496a9032100d0f563f02",
            "04c4f9ae44434dfaaa88fbbb9761e63b",
            "2e665429126548a79f4daaa1644c718a",
            "017973109bea4a6abb0af4dca6980fca",
            "4e3db9e7eb0048e1995f378c293aa868",
            "7769edea43cf4e078fd257e66f5144a3",
            "b90aa0e6ced7403cb501fb0e21731298",
            "4ded6f4c81cc45ceae66a046792b1b35",
            "b917cc1a54dd4289b4c421f9cfdd2a03",
            "07aa4f91a7324ff7be74c4853b1f23ee",
            "143056b794bf44a7b9ae8a2fa5e214cf",
            "57044e538e624cd58cf5265362cfc9fb",
            "de09b1f3384d46c1975c3b3e7f630121",
            "66f2d8be1f2b424c9d73caff250b08da",
            "5479d63691e44a53ac7217cf4106bab6",
            "e42499f5083a49c3b6c2e7a8a043164d",
            "aa6ce493cffc4363849c25ebf3344167",
            "e2c566d34c3643efb81c22f4dc591e0f",
            "816f278fbdfe483bb81afac79d3976e4",
            "9ca5f143885e423eb5ae3e69c0700421"
          ]
        },
        "id": "5vdcvDLZ37xw",
        "outputId": "aacd516b-4139-4df5-ef81-554ed94aee59"
      },
      "execution_count": null,
      "outputs": [
        {
          "data": {
            "application/vnd.jupyter.widget-view+json": {
              "model_id": "753098da387544b098ec5c90c525d0f8",
              "version_major": 2,
              "version_minor": 0
            },
            "text/plain": [
              "  0%|          | 0/40 [00:00<?, ?it/s]"
            ]
          },
          "metadata": {},
          "output_type": "display_data"
        },
        {
          "data": {
            "application/vnd.jupyter.widget-view+json": {
              "model_id": "ddb50f1a916a46b79288a5bba7a3d3c6",
              "version_major": 2,
              "version_minor": 0
            },
            "text/plain": [
              "  0%|          | 0/42 [00:00<?, ?it/s]"
            ]
          },
          "metadata": {},
          "output_type": "display_data"
        },
        {
          "data": {
            "application/vnd.jupyter.widget-view+json": {
              "model_id": "07aa4f91a7324ff7be74c4853b1f23ee",
              "version_major": 2,
              "version_minor": 0
            },
            "text/plain": [
              "  0%|          | 0/10 [00:00<?, ?it/s]"
            ]
          },
          "metadata": {},
          "output_type": "display_data"
        },
        {
          "metadata": {
            "tags": null
          },
          "name": "stderr",
          "output_type": "stream",
          "text": [
            "\u001b[34m\u001b[1mwandb\u001b[0m: Currently logged in as: \u001b[33matsushi061452\u001b[0m. Use \u001b[1m`wandb login --relogin`\u001b[0m to force relogin\n"
          ]
        },
        {
          "metadata": {
            "tags": null
          },
          "name": "stdout",
          "output_type": "stream",
          "text": [
            "[INFO] Create wandb saving to 2023-03-31-100%_transformer_baseline-transformer\n"
          ]
        },
        {
          "data": {
            "text/html": [
              "Tracking run with wandb version 0.14.0"
            ],
            "text/plain": [
              "<IPython.core.display.HTML object>"
            ]
          },
          "metadata": {},
          "output_type": "display_data"
        },
        {
          "data": {
            "text/html": [
              "Run data is saved locally in <code>/content/wandb/run-20230331_073832-ik3qd51c</code>"
            ],
            "text/plain": [
              "<IPython.core.display.HTML object>"
            ]
          },
          "metadata": {},
          "output_type": "display_data"
        },
        {
          "data": {
            "text/html": [
              "Syncing run <strong><a href='https://wandb.ai/atsushi061452/kaggle-asl-signs/runs/ik3qd51c' target=\"_blank\">2023-03-31-100%_transformer_baseline-transformer</a></strong> to <a href='https://wandb.ai/atsushi061452/kaggle-asl-signs' target=\"_blank\">Weights & Biases</a> (<a href='https://wandb.me/run' target=\"_blank\">docs</a>)<br/>"
            ],
            "text/plain": [
              "<IPython.core.display.HTML object>"
            ]
          },
          "metadata": {},
          "output_type": "display_data"
        },
        {
          "data": {
            "text/html": [
              " View project at <a href='https://wandb.ai/atsushi061452/kaggle-asl-signs' target=\"_blank\">https://wandb.ai/atsushi061452/kaggle-asl-signs</a>"
            ],
            "text/plain": [
              "<IPython.core.display.HTML object>"
            ]
          },
          "metadata": {},
          "output_type": "display_data"
        },
        {
          "data": {
            "text/html": [
              " View run at <a href='https://wandb.ai/atsushi061452/kaggle-asl-signs/runs/ik3qd51c' target=\"_blank\">https://wandb.ai/atsushi061452/kaggle-asl-signs/runs/ik3qd51c</a>"
            ],
            "text/plain": [
              "<IPython.core.display.HTML object>"
            ]
          },
          "metadata": {},
          "output_type": "display_data"
        },
        {
          "metadata": {
            "tags": null
          },
          "name": "stderr",
          "output_type": "stream",
          "text": [
            "\u001b[34m\u001b[1mwandb\u001b[0m: \u001b[33mWARNING\u001b[0m The save_model argument by default saves the model in the HDF5 format that cannot save custom objects like subclassed models and custom layers. This behavior will be deprecated in a future release in favor of the SavedModel format. Meanwhile, the HDF5 model is saved as W&B files and the SavedModel as W&B Artifacts.\n"
          ]
        },
        {
          "output_type": "stream",
          "name": "stdout",
          "text": [
            "\n",
            "Epoch 1: LearningRateScheduler setting learning rate to 0.001.\n",
            "learning rate: 1.00e-03, weight decay: 5.00e-05\n",
            "Epoch 1/50\n",
            "94/94 - 50s - loss: 3.5366 - acc: 0.2485 - lr: 0.0010 - 50s/epoch - 536ms/step\n",
            "\n",
            "Epoch 2: LearningRateScheduler setting learning rate to 0.0009990133642141358.\n",
            "learning rate: 9.99e-04, weight decay: 5.00e-05\n",
            "Epoch 2/50\n",
            "94/94 - 36s - loss: 1.6889 - acc: 0.5775 - lr: 9.9901e-04 - 36s/epoch - 382ms/step\n",
            "\n",
            "Epoch 3: LearningRateScheduler setting learning rate to 0.000996057350657239.\n",
            "learning rate: 9.96e-04, weight decay: 4.98e-05\n",
            "Epoch 3/50\n",
            "94/94 - 38s - loss: 1.2553 - acc: 0.6770 - lr: 9.9606e-04 - 38s/epoch - 401ms/step\n",
            "\n",
            "Epoch 4: LearningRateScheduler setting learning rate to 0.0009911436253643444.\n",
            "learning rate: 9.91e-04, weight decay: 4.96e-05\n",
            "Epoch 4/50\n",
            "94/94 - 38s - loss: 1.0377 - acc: 0.7294 - lr: 9.9114e-04 - 38s/epoch - 402ms/step\n",
            "\n",
            "Epoch 5: LearningRateScheduler setting learning rate to 0.0009842915805643156.\n",
            "learning rate: 9.84e-04, weight decay: 4.92e-05\n",
            "Epoch 5/50\n",
            "94/94 - 38s - loss: 0.8971 - acc: 0.7647 - lr: 9.8429e-04 - 38s/epoch - 400ms/step\n",
            "\n",
            "Epoch 6: LearningRateScheduler setting learning rate to 0.0009755282581475768.\n",
            "learning rate: 9.76e-04, weight decay: 4.88e-05\n",
            "Epoch 6/50\n",
            "94/94 - 38s - loss: 0.7798 - acc: 0.7929 - lr: 9.7553e-04 - 38s/epoch - 404ms/step\n",
            "\n",
            "Epoch 7: LearningRateScheduler setting learning rate to 0.0009648882429441257.\n",
            "learning rate: 9.65e-04, weight decay: 4.82e-05\n",
            "Epoch 7/50\n",
            "94/94 - 38s - loss: 0.6988 - acc: 0.8130 - lr: 9.6489e-04 - 38s/epoch - 401ms/step\n",
            "\n",
            "Epoch 8: LearningRateScheduler setting learning rate to 0.0009524135262330098.\n",
            "learning rate: 9.52e-04, weight decay: 4.76e-05\n",
            "Epoch 8/50\n",
            "94/94 - 38s - loss: 0.6353 - acc: 0.8296 - lr: 9.5241e-04 - 38s/epoch - 403ms/step\n",
            "\n",
            "Epoch 9: LearningRateScheduler setting learning rate to 0.0009381533400219318.\n",
            "learning rate: 9.38e-04, weight decay: 4.69e-05\n",
            "Epoch 9/50\n",
            "94/94 - 38s - loss: 0.5718 - acc: 0.8458 - lr: 9.3815e-04 - 38s/epoch - 404ms/step\n",
            "\n",
            "Epoch 10: LearningRateScheduler setting learning rate to 0.0009221639627510075.\n",
            "learning rate: 9.22e-04, weight decay: 4.61e-05\n",
            "Epoch 10/50\n",
            "94/94 - 38s - loss: 0.5176 - acc: 0.8582 - lr: 9.2216e-04 - 38s/epoch - 405ms/step\n",
            "\n",
            "Epoch 11: LearningRateScheduler setting learning rate to 0.0009045084971874737.\n",
            "learning rate: 9.05e-04, weight decay: 4.52e-05\n",
            "Epoch 11/50\n",
            "94/94 - 38s - loss: 0.4675 - acc: 0.8705 - lr: 9.0451e-04 - 38s/epoch - 404ms/step\n",
            "\n",
            "Epoch 12: LearningRateScheduler setting learning rate to 0.0008852566213878947.\n",
            "learning rate: 8.85e-04, weight decay: 4.43e-05\n",
            "Epoch 12/50\n",
            "94/94 - 38s - loss: 0.4281 - acc: 0.8803 - lr: 8.8526e-04 - 38s/epoch - 403ms/step\n",
            "\n",
            "Epoch 13: LearningRateScheduler setting learning rate to 0.0008644843137107057.\n",
            "learning rate: 8.64e-04, weight decay: 4.32e-05\n",
            "Epoch 13/50\n",
            "94/94 - 38s - loss: 0.3820 - acc: 0.8922 - lr: 8.6448e-04 - 38s/epoch - 403ms/step\n",
            "\n",
            "Epoch 14: LearningRateScheduler setting learning rate to 0.0008422735529643444.\n",
            "learning rate: 8.42e-04, weight decay: 4.21e-05\n",
            "Epoch 14/50\n",
            "94/94 - 38s - loss: 0.3644 - acc: 0.8955 - lr: 8.4227e-04 - 38s/epoch - 403ms/step\n",
            "\n",
            "Epoch 15: LearningRateScheduler setting learning rate to 0.0008187119948743449.\n",
            "learning rate: 8.19e-04, weight decay: 4.09e-05\n",
            "Epoch 15/50\n",
            "94/94 - 38s - loss: 0.3111 - acc: 0.9113 - lr: 8.1871e-04 - 38s/epoch - 402ms/step\n",
            "\n",
            "Epoch 16: LearningRateScheduler setting learning rate to 0.0007938926261462366.\n",
            "learning rate: 7.94e-04, weight decay: 3.97e-05\n",
            "Epoch 16/50\n",
            "94/94 - 38s - loss: 0.2785 - acc: 0.9210 - lr: 7.9389e-04 - 38s/epoch - 403ms/step\n",
            "\n",
            "Epoch 17: LearningRateScheduler setting learning rate to 0.0007679133974894983.\n",
            "learning rate: 7.68e-04, weight decay: 3.84e-05\n",
            "Epoch 17/50\n",
            "94/94 - 38s - loss: 0.2445 - acc: 0.9293 - lr: 7.6791e-04 - 38s/epoch - 404ms/step\n",
            "\n",
            "Epoch 18: LearningRateScheduler setting learning rate to 0.0007408768370508576.\n",
            "learning rate: 7.41e-04, weight decay: 3.70e-05\n",
            "Epoch 18/50\n",
            "94/94 - 38s - loss: 0.2301 - acc: 0.9332 - lr: 7.4088e-04 - 38s/epoch - 404ms/step\n",
            "\n",
            "Epoch 19: LearningRateScheduler setting learning rate to 0.0007128896457825364.\n",
            "learning rate: 7.13e-04, weight decay: 3.56e-05\n",
            "Epoch 19/50\n",
            "94/94 - 38s - loss: 0.2067 - acc: 0.9394 - lr: 7.1289e-04 - 38s/epoch - 403ms/step\n",
            "\n",
            "Epoch 20: LearningRateScheduler setting learning rate to 0.0006840622763423391.\n",
            "learning rate: 6.84e-04, weight decay: 3.42e-05\n",
            "Epoch 20/50\n",
            "94/94 - 38s - loss: 0.1791 - acc: 0.9477 - lr: 6.8406e-04 - 38s/epoch - 403ms/step\n",
            "\n",
            "Epoch 21: LearningRateScheduler setting learning rate to 0.0006545084971874737.\n",
            "learning rate: 6.55e-04, weight decay: 3.27e-05\n",
            "Epoch 21/50\n",
            "94/94 - 38s - loss: 0.1599 - acc: 0.9536 - lr: 6.5451e-04 - 38s/epoch - 404ms/step\n",
            "\n",
            "Epoch 22: LearningRateScheduler setting learning rate to 0.0006243449435824276.\n",
            "learning rate: 6.24e-04, weight decay: 3.12e-05\n",
            "Epoch 22/50\n",
            "94/94 - 38s - loss: 0.1380 - acc: 0.9601 - lr: 6.2434e-04 - 38s/epoch - 405ms/step\n",
            "\n",
            "Epoch 23: LearningRateScheduler setting learning rate to 0.0005936906572928624.\n",
            "learning rate: 5.94e-04, weight decay: 2.97e-05\n",
            "Epoch 23/50\n",
            "94/94 - 38s - loss: 0.1171 - acc: 0.9664 - lr: 5.9369e-04 - 38s/epoch - 403ms/step\n",
            "\n",
            "Epoch 24: LearningRateScheduler setting learning rate to 0.0005626666167821521.\n",
            "learning rate: 5.63e-04, weight decay: 2.81e-05\n",
            "Epoch 24/50\n",
            "94/94 - 38s - loss: 0.1043 - acc: 0.9706 - lr: 5.6267e-04 - 38s/epoch - 403ms/step\n",
            "\n",
            "Epoch 25: LearningRateScheduler setting learning rate to 0.0005313952597646568.\n",
            "learning rate: 5.31e-04, weight decay: 2.66e-05\n",
            "Epoch 25/50\n",
            "94/94 - 38s - loss: 0.0865 - acc: 0.9761 - lr: 5.3140e-04 - 38s/epoch - 402ms/step\n",
            "\n",
            "Epoch 26: LearningRateScheduler setting learning rate to 0.0005.\n",
            "learning rate: 5.00e-04, weight decay: 2.50e-05\n",
            "Epoch 26/50\n",
            "94/94 - 38s - loss: 0.0715 - acc: 0.9810 - lr: 5.0000e-04 - 38s/epoch - 403ms/step\n",
            "\n",
            "Epoch 27: LearningRateScheduler setting learning rate to 0.0004686047402353433.\n",
            "learning rate: 4.69e-04, weight decay: 2.34e-05\n",
            "Epoch 27/50\n",
            "94/94 - 38s - loss: 0.0612 - acc: 0.9845 - lr: 4.6860e-04 - 38s/epoch - 402ms/step\n",
            "\n",
            "Epoch 28: LearningRateScheduler setting learning rate to 0.00043733338321784784.\n",
            "learning rate: 4.37e-04, weight decay: 2.19e-05\n",
            "Epoch 28/50\n",
            "94/94 - 38s - loss: 0.0487 - acc: 0.9878 - lr: 4.3733e-04 - 38s/epoch - 403ms/step\n",
            "\n",
            "Epoch 29: LearningRateScheduler setting learning rate to 0.0004063093427071376.\n",
            "learning rate: 4.06e-04, weight decay: 2.03e-05\n",
            "Epoch 29/50\n",
            "94/94 - 38s - loss: 0.0395 - acc: 0.9909 - lr: 4.0631e-04 - 38s/epoch - 403ms/step\n",
            "\n",
            "Epoch 30: LearningRateScheduler setting learning rate to 0.0003756550564175727.\n",
            "learning rate: 3.76e-04, weight decay: 1.88e-05\n",
            "Epoch 30/50\n",
            "94/94 - 38s - loss: 0.0306 - acc: 0.9934 - lr: 3.7566e-04 - 38s/epoch - 404ms/step\n",
            "\n",
            "Epoch 31: LearningRateScheduler setting learning rate to 0.00034549150281252633.\n",
            "learning rate: 3.45e-04, weight decay: 1.73e-05\n",
            "Epoch 31/50\n",
            "94/94 - 38s - loss: 0.0262 - acc: 0.9951 - lr: 3.4549e-04 - 38s/epoch - 403ms/step\n",
            "\n",
            "Epoch 32: LearningRateScheduler setting learning rate to 0.00031593772365766105.\n",
            "learning rate: 3.16e-04, weight decay: 1.58e-05\n",
            "Epoch 32/50\n",
            "94/94 - 38s - loss: 0.0209 - acc: 0.9961 - lr: 3.1594e-04 - 38s/epoch - 404ms/step\n",
            "\n",
            "Epoch 33: LearningRateScheduler setting learning rate to 0.00028711035421746366.\n",
            "learning rate: 2.87e-04, weight decay: 1.44e-05\n",
            "Epoch 33/50\n",
            "94/94 - 38s - loss: 0.0168 - acc: 0.9974 - lr: 2.8711e-04 - 38s/epoch - 404ms/step\n",
            "\n",
            "Epoch 34: LearningRateScheduler setting learning rate to 0.0002591231629491423.\n",
            "learning rate: 2.59e-04, weight decay: 1.30e-05\n",
            "Epoch 34/50\n",
            "94/94 - 38s - loss: 0.0143 - acc: 0.9979 - lr: 2.5912e-04 - 38s/epoch - 404ms/step\n",
            "\n",
            "Epoch 35: LearningRateScheduler setting learning rate to 0.00023208660251050156.\n",
            "learning rate: 2.32e-04, weight decay: 1.16e-05\n",
            "Epoch 35/50\n",
            "94/94 - 38s - loss: 0.0115 - acc: 0.9986 - lr: 2.3209e-04 - 38s/epoch - 404ms/step\n",
            "\n",
            "Epoch 36: LearningRateScheduler setting learning rate to 0.00020610737385376348.\n",
            "learning rate: 2.06e-04, weight decay: 1.03e-05\n",
            "Epoch 36/50\n",
            "94/94 - 38s - loss: 0.0107 - acc: 0.9987 - lr: 2.0611e-04 - 38s/epoch - 404ms/step\n",
            "\n",
            "Epoch 37: LearningRateScheduler setting learning rate to 0.00018128800512565513.\n",
            "learning rate: 1.81e-04, weight decay: 9.06e-06\n",
            "Epoch 37/50\n",
            "94/94 - 38s - loss: 0.0095 - acc: 0.9990 - lr: 1.8129e-04 - 38s/epoch - 405ms/step\n",
            "\n",
            "Epoch 38: LearningRateScheduler setting learning rate to 0.00015772644703565563.\n",
            "learning rate: 1.58e-04, weight decay: 7.89e-06\n",
            "Epoch 38/50\n",
            "94/94 - 38s - loss: 0.0078 - acc: 0.9993 - lr: 1.5773e-04 - 38s/epoch - 404ms/step\n",
            "\n",
            "Epoch 39: LearningRateScheduler setting learning rate to 0.00013551568628929433.\n",
            "learning rate: 1.36e-04, weight decay: 6.78e-06\n",
            "Epoch 39/50\n",
            "94/94 - 38s - loss: 0.0073 - acc: 0.9994 - lr: 1.3552e-04 - 38s/epoch - 404ms/step\n",
            "\n",
            "Epoch 40: LearningRateScheduler setting learning rate to 0.00011474337861210544.\n",
            "learning rate: 1.15e-04, weight decay: 5.74e-06\n",
            "Epoch 40/50\n",
            "94/94 - 38s - loss: 0.0066 - acc: 0.9996 - lr: 1.1474e-04 - 38s/epoch - 405ms/step\n",
            "\n",
            "Epoch 41: LearningRateScheduler setting learning rate to 9.549150281252633e-05.\n",
            "learning rate: 9.55e-05, weight decay: 4.77e-06\n",
            "Epoch 41/50\n",
            "94/94 - 38s - loss: 0.0061 - acc: 0.9995 - lr: 9.5492e-05 - 38s/epoch - 404ms/step\n",
            "\n",
            "Epoch 42: LearningRateScheduler setting learning rate to 7.783603724899258e-05.\n",
            "learning rate: 7.78e-05, weight decay: 3.89e-06\n",
            "Epoch 42/50\n",
            "94/94 - 38s - loss: 0.0060 - acc: 0.9995 - lr: 7.7836e-05 - 38s/epoch - 404ms/step\n",
            "\n",
            "Epoch 43: LearningRateScheduler setting learning rate to 6.184665997806832e-05.\n",
            "learning rate: 6.18e-05, weight decay: 3.09e-06\n",
            "Epoch 43/50\n",
            "94/94 - 38s - loss: 0.0054 - acc: 0.9996 - lr: 6.1847e-05 - 38s/epoch - 404ms/step\n",
            "\n",
            "Epoch 44: LearningRateScheduler setting learning rate to 4.758647376699032e-05.\n",
            "learning rate: 4.76e-05, weight decay: 2.38e-06\n",
            "Epoch 44/50\n",
            "94/94 - 38s - loss: 0.0052 - acc: 0.9997 - lr: 4.7586e-05 - 38s/epoch - 404ms/step\n",
            "\n",
            "Epoch 45: LearningRateScheduler setting learning rate to 3.5111757055874326e-05.\n",
            "learning rate: 3.51e-05, weight decay: 1.76e-06\n",
            "Epoch 45/50\n",
            "94/94 - 38s - loss: 0.0049 - acc: 0.9999 - lr: 3.5112e-05 - 38s/epoch - 403ms/step\n",
            "\n",
            "Epoch 46: LearningRateScheduler setting learning rate to 2.4471741852423235e-05.\n",
            "learning rate: 2.45e-05, weight decay: 1.22e-06\n",
            "Epoch 46/50\n",
            "94/94 - 38s - loss: 0.0049 - acc: 0.9998 - lr: 2.4472e-05 - 38s/epoch - 404ms/step\n",
            "\n",
            "Epoch 47: LearningRateScheduler setting learning rate to 1.5708419435684463e-05.\n",
            "learning rate: 1.57e-05, weight decay: 7.85e-07\n",
            "Epoch 47/50\n",
            "94/94 - 38s - loss: 0.0050 - acc: 0.9997 - lr: 1.5708e-05 - 38s/epoch - 404ms/step\n",
            "\n",
            "Epoch 48: LearningRateScheduler setting learning rate to 8.856374635655695e-06.\n",
            "learning rate: 8.86e-06, weight decay: 4.43e-07\n",
            "Epoch 48/50\n",
            "94/94 - 38s - loss: 0.0046 - acc: 0.9998 - lr: 8.8564e-06 - 38s/epoch - 404ms/step\n",
            "\n",
            "Epoch 49: LearningRateScheduler setting learning rate to 3.942649342761117e-06.\n",
            "learning rate: 3.94e-06, weight decay: 1.97e-07\n",
            "Epoch 49/50\n",
            "94/94 - 38s - loss: 0.0049 - acc: 0.9998 - lr: 3.9426e-06 - 38s/epoch - 403ms/step\n",
            "\n",
            "Epoch 50: LearningRateScheduler setting learning rate to 9.866357858642206e-07.\n",
            "learning rate: 9.87e-07, weight decay: 4.93e-08\n",
            "Epoch 50/50\n",
            "94/94 - 38s - loss: 0.0046 - acc: 0.9998 - lr: 9.8664e-07 - 38s/epoch - 405ms/step\n"
          ]
        },
        {
          "output_type": "stream",
          "name": "stderr",
          "text": [
            "WARNING:tensorflow:Model's `__init__()` arguments contain non-serializable objects. Please implement a `get_config()` method in the subclassed Model for proper saving and loading. Defaulting to empty config.\n",
            "WARNING:tensorflow:Model's `__init__()` arguments contain non-serializable objects. Please implement a `get_config()` method in the subclassed Model for proper saving and loading. Defaulting to empty config.\n"
          ]
        }
      ]
    },
    {
      "cell_type": "code",
      "source": [
        "from google.colab import files\n",
        "files.download(\"models/transformer_baseline.h5\")"
      ],
      "metadata": {
        "id": "ezcPoRSZMAH3",
        "colab": {
          "base_uri": "https://localhost:8080/",
          "height": 34
        },
        "outputId": "a2f6b893-c8d9-4eff-ea74-c93517624313"
      },
      "execution_count": null,
      "outputs": [
        {
          "output_type": "display_data",
          "data": {
            "text/plain": [
              "<IPython.core.display.Javascript object>"
            ],
            "application/javascript": [
              "\n",
              "    async function download(id, filename, size) {\n",
              "      if (!google.colab.kernel.accessAllowed) {\n",
              "        return;\n",
              "      }\n",
              "      const div = document.createElement('div');\n",
              "      const label = document.createElement('label');\n",
              "      label.textContent = `Downloading \"${filename}\": `;\n",
              "      div.appendChild(label);\n",
              "      const progress = document.createElement('progress');\n",
              "      progress.max = size;\n",
              "      div.appendChild(progress);\n",
              "      document.body.appendChild(div);\n",
              "\n",
              "      const buffers = [];\n",
              "      let downloaded = 0;\n",
              "\n",
              "      const channel = await google.colab.kernel.comms.open(id);\n",
              "      // Send a message to notify the kernel that we're ready.\n",
              "      channel.send({})\n",
              "\n",
              "      for await (const message of channel.messages) {\n",
              "        // Send a message to notify the kernel that we're ready.\n",
              "        channel.send({})\n",
              "        if (message.buffers) {\n",
              "          for (const buffer of message.buffers) {\n",
              "            buffers.push(buffer);\n",
              "            downloaded += buffer.byteLength;\n",
              "            progress.value = downloaded;\n",
              "          }\n",
              "        }\n",
              "      }\n",
              "      const blob = new Blob(buffers, {type: 'application/binary'});\n",
              "      const a = document.createElement('a');\n",
              "      a.href = window.URL.createObjectURL(blob);\n",
              "      a.download = filename;\n",
              "      div.appendChild(a);\n",
              "      a.click();\n",
              "      div.remove();\n",
              "    }\n",
              "  "
            ]
          },
          "metadata": {}
        },
        {
          "output_type": "display_data",
          "data": {
            "text/plain": [
              "<IPython.core.display.Javascript object>"
            ],
            "application/javascript": [
              "download(\"download_89722bc6-ee9b-4e38-b0a7-7e7e33f9439c\", \"transformer_baseline.h5\", 41728464)"
            ]
          },
          "metadata": {}
        }
      ]
    },
    {
      "cell_type": "code",
      "source": [],
      "metadata": {
        "id": "YzdffFJtUkyV"
      },
      "execution_count": null,
      "outputs": []
    }
  ]
}